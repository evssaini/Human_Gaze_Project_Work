{
  "nbformat": 4,
  "nbformat_minor": 0,
  "metadata": {
    "colab": {
      "provenance": [],
      "collapsed_sections": [
        "e33bp9YOUGXd",
        "hn1OOonosiVS",
        "o2xYesSQsT1y",
        "NDRU8bpQurkP",
        "7hqh5cdL1jSj"
      ],
      "machine_shape": "hm",
      "gpuType": "A100"
    },
    "kernelspec": {
      "name": "python3",
      "display_name": "Python 3"
    },
    "language_info": {
      "name": "python"
    },
    "accelerator": "GPU"
  },
  "cells": [
    {
      "cell_type": "code",
      "source": [
        "# Import the library to mount Google Drive\n",
        "from google.colab import drive\n",
        "\n",
        "drive.mount('/content/drive')"
      ],
      "metadata": {
        "colab": {
          "base_uri": "https://localhost:8080/"
        },
        "id": "PRMhkgziPuzh",
        "outputId": "52799338-343a-4463-c6a4-b8a010573db6"
      },
      "execution_count": null,
      "outputs": [
        {
          "output_type": "stream",
          "name": "stdout",
          "text": [
            "Mounted at /content/drive\n"
          ]
        }
      ]
    },
    {
      "cell_type": "code",
      "execution_count": null,
      "metadata": {
        "colab": {
          "base_uri": "https://localhost:8080/"
        },
        "collapsed": true,
        "id": "vwmqyup5J_iL",
        "outputId": "11d2d561-f3d1-47a4-b6dd-432594394625"
      },
      "outputs": [
        {
          "output_type": "stream",
          "name": "stdout",
          "text": [
            "Requirement already satisfied: tensorflow-probability in /usr/local/lib/python3.11/dist-packages (0.25.0)\n",
            "Collecting pymc3\n",
            "  Downloading pymc3-3.11.6-py3-none-any.whl.metadata (15 kB)\n",
            "Requirement already satisfied: opencv-python in /usr/local/lib/python3.11/dist-packages (4.11.0.86)\n",
            "Requirement already satisfied: pandas in /usr/local/lib/python3.11/dist-packages (2.2.2)\n",
            "Requirement already satisfied: scikit-learn in /usr/local/lib/python3.11/dist-packages (1.6.1)\n",
            "Requirement already satisfied: absl-py in /usr/local/lib/python3.11/dist-packages (from tensorflow-probability) (1.4.0)\n",
            "Requirement already satisfied: six>=1.10.0 in /usr/local/lib/python3.11/dist-packages (from tensorflow-probability) (1.17.0)\n",
            "Requirement already satisfied: numpy>=1.13.3 in /usr/local/lib/python3.11/dist-packages (from tensorflow-probability) (2.0.2)\n",
            "Requirement already satisfied: decorator in /usr/local/lib/python3.11/dist-packages (from tensorflow-probability) (4.4.2)\n",
            "Requirement already satisfied: cloudpickle>=1.3 in /usr/local/lib/python3.11/dist-packages (from tensorflow-probability) (3.1.1)\n",
            "Requirement already satisfied: gast>=0.3.2 in /usr/local/lib/python3.11/dist-packages (from tensorflow-probability) (0.6.0)\n",
            "Requirement already satisfied: dm-tree in /usr/local/lib/python3.11/dist-packages (from tensorflow-probability) (0.1.9)\n",
            "Requirement already satisfied: arviz>=0.11.0 in /usr/local/lib/python3.11/dist-packages (from pymc3) (0.21.0)\n",
            "Requirement already satisfied: cachetools>=4.2.1 in /usr/local/lib/python3.11/dist-packages (from pymc3) (5.5.2)\n",
            "Collecting deprecat (from pymc3)\n",
            "  Downloading deprecat-2.1.3-py2.py3-none-any.whl.metadata (1.6 kB)\n",
            "Collecting dill (from pymc3)\n",
            "  Downloading dill-0.3.9-py3-none-any.whl.metadata (10 kB)\n",
            "Requirement already satisfied: fastprogress>=0.2.0 in /usr/local/lib/python3.11/dist-packages (from pymc3) (1.0.3)\n",
            "Collecting numpy>=1.13.3 (from tensorflow-probability)\n",
            "  Downloading numpy-1.22.1.zip (11.4 MB)\n",
            "\u001b[2K     \u001b[90m━━━━━━━━━━━━━━━━━━━━━━━━━━━━━━━━━━━━━━━━\u001b[0m \u001b[32m11.4/11.4 MB\u001b[0m \u001b[31m87.8 MB/s\u001b[0m eta \u001b[36m0:00:00\u001b[0m\n",
            "\u001b[?25h  Installing build dependencies ... \u001b[?25l\u001b[?25hdone\n",
            "  Getting requirements to build wheel ... \u001b[?25l\u001b[?25hdone\n",
            "  Preparing metadata (pyproject.toml) ... \u001b[?25l\u001b[?25hdone\n",
            "Requirement already satisfied: patsy>=0.5.1 in /usr/local/lib/python3.11/dist-packages (from pymc3) (1.0.1)\n",
            "INFO: pip is looking at multiple versions of pymc3 to determine which version is compatible with other requirements. This could take a while.\n",
            "Collecting pymc3\n",
            "  Downloading pymc3-3.11.5-py3-none-any.whl.metadata (14 kB)\n",
            "  Downloading pymc3-3.11.4-py3-none-any.whl.metadata (14 kB)\n",
            "Requirement already satisfied: scipy>=1.2.0 in /usr/local/lib/python3.11/dist-packages (from pymc3) (1.14.1)\n",
            "Collecting semver>=2.13.0 (from pymc3)\n",
            "  Downloading semver-3.0.4-py3-none-any.whl.metadata (6.8 kB)\n",
            "Collecting theano-pymc==1.1.2 (from pymc3)\n",
            "  Downloading Theano-PyMC-1.1.2.tar.gz (1.8 MB)\n",
            "\u001b[2K     \u001b[90m━━━━━━━━━━━━━━━━━━━━━━━━━━━━━━━━━━━━━━━━\u001b[0m \u001b[32m1.8/1.8 MB\u001b[0m \u001b[31m38.8 MB/s\u001b[0m eta \u001b[36m0:00:00\u001b[0m\n",
            "\u001b[?25h  Preparing metadata (setup.py) ... \u001b[?25l\u001b[?25hdone\n",
            "Requirement already satisfied: typing-extensions>=3.7.4 in /usr/local/lib/python3.11/dist-packages (from pymc3) (4.13.0)\n",
            "Requirement already satisfied: filelock in /usr/local/lib/python3.11/dist-packages (from theano-pymc==1.1.2->pymc3) (3.18.0)\n",
            "Requirement already satisfied: python-dateutil>=2.8.2 in /usr/local/lib/python3.11/dist-packages (from pandas) (2.8.2)\n",
            "Requirement already satisfied: pytz>=2020.1 in /usr/local/lib/python3.11/dist-packages (from pandas) (2025.2)\n",
            "Requirement already satisfied: tzdata>=2022.7 in /usr/local/lib/python3.11/dist-packages (from pandas) (2025.2)\n",
            "Requirement already satisfied: joblib>=1.2.0 in /usr/local/lib/python3.11/dist-packages (from scikit-learn) (1.4.2)\n",
            "Requirement already satisfied: threadpoolctl>=3.1.0 in /usr/local/lib/python3.11/dist-packages (from scikit-learn) (3.6.0)\n",
            "Requirement already satisfied: setuptools>=60.0.0 in /usr/local/lib/python3.11/dist-packages (from arviz>=0.11.0->pymc3) (75.2.0)\n",
            "Requirement already satisfied: matplotlib>=3.5 in /usr/local/lib/python3.11/dist-packages (from arviz>=0.11.0->pymc3) (3.10.0)\n",
            "Requirement already satisfied: packaging in /usr/local/lib/python3.11/dist-packages (from arviz>=0.11.0->pymc3) (24.2)\n",
            "Requirement already satisfied: xarray>=2022.6.0 in /usr/local/lib/python3.11/dist-packages (from arviz>=0.11.0->pymc3) (2025.1.2)\n",
            "Requirement already satisfied: h5netcdf>=1.0.2 in /usr/local/lib/python3.11/dist-packages (from arviz>=0.11.0->pymc3) (1.6.1)\n",
            "Requirement already satisfied: xarray-einstats>=0.3 in /usr/local/lib/python3.11/dist-packages (from arviz>=0.11.0->pymc3) (0.8.0)\n",
            "Requirement already satisfied: attrs>=18.2.0 in /usr/local/lib/python3.11/dist-packages (from dm-tree->tensorflow-probability) (25.3.0)\n",
            "Requirement already satisfied: wrapt>=1.11.2 in /usr/local/lib/python3.11/dist-packages (from dm-tree->tensorflow-probability) (1.17.2)\n",
            "Requirement already satisfied: h5py in /usr/local/lib/python3.11/dist-packages (from h5netcdf>=1.0.2->arviz>=0.11.0->pymc3) (3.13.0)\n",
            "Requirement already satisfied: contourpy>=1.0.1 in /usr/local/lib/python3.11/dist-packages (from matplotlib>=3.5->arviz>=0.11.0->pymc3) (1.3.1)\n",
            "Requirement already satisfied: cycler>=0.10 in /usr/local/lib/python3.11/dist-packages (from matplotlib>=3.5->arviz>=0.11.0->pymc3) (0.12.1)\n",
            "Requirement already satisfied: fonttools>=4.22.0 in /usr/local/lib/python3.11/dist-packages (from matplotlib>=3.5->arviz>=0.11.0->pymc3) (4.56.0)\n",
            "Requirement already satisfied: kiwisolver>=1.3.1 in /usr/local/lib/python3.11/dist-packages (from matplotlib>=3.5->arviz>=0.11.0->pymc3) (1.4.8)\n",
            "Requirement already satisfied: pillow>=8 in /usr/local/lib/python3.11/dist-packages (from matplotlib>=3.5->arviz>=0.11.0->pymc3) (11.1.0)\n",
            "Requirement already satisfied: pyparsing>=2.3.1 in /usr/local/lib/python3.11/dist-packages (from matplotlib>=3.5->arviz>=0.11.0->pymc3) (3.2.3)\n",
            "Downloading pymc3-3.11.4-py3-none-any.whl (869 kB)\n",
            "\u001b[2K   \u001b[90m━━━━━━━━━━━━━━━━━━━━━━━━━━━━━━━━━━━━━━━━\u001b[0m \u001b[32m869.5/869.5 kB\u001b[0m \u001b[31m49.7 MB/s\u001b[0m eta \u001b[36m0:00:00\u001b[0m\n",
            "\u001b[?25hDownloading semver-3.0.4-py3-none-any.whl (17 kB)\n",
            "Downloading dill-0.3.9-py3-none-any.whl (119 kB)\n",
            "\u001b[2K   \u001b[90m━━━━━━━━━━━━━━━━━━━━━━━━━━━━━━━━━━━━━━━━\u001b[0m \u001b[32m119.4/119.4 kB\u001b[0m \u001b[31m11.9 MB/s\u001b[0m eta \u001b[36m0:00:00\u001b[0m\n",
            "\u001b[?25hBuilding wheels for collected packages: theano-pymc\n",
            "  Building wheel for theano-pymc (setup.py) ... \u001b[?25l\u001b[?25hdone\n",
            "  Created wheel for theano-pymc: filename=Theano_PyMC-1.1.2-py3-none-any.whl size=1529958 sha256=63d5cd9ba96b61b2353c3276cb67ffcf661b164467fe8015d156cc7f1bb95be3\n",
            "  Stored in directory: /root/.cache/pip/wheels/fb/d3/25/6c443075ee21f3b6a59a6a180b55657b012722e1b89f8ccbe8\n",
            "Successfully built theano-pymc\n",
            "Installing collected packages: semver, dill, theano-pymc, pymc3\n",
            "Successfully installed dill-0.3.9 pymc3-3.11.4 semver-3.0.4 theano-pymc-1.1.2\n"
          ]
        }
      ],
      "source": [
        "pip install tensorflow-probability pymc3 opencv-python pandas scikit-learn"
      ]
    },
    {
      "cell_type": "code",
      "source": [
        "pip install numpyro jaxlib"
      ],
      "metadata": {
        "colab": {
          "base_uri": "https://localhost:8080/"
        },
        "id": "guY8BYNhSApw",
        "outputId": "ce229a0c-d730-4ffa-f2e1-e1bfb593f7b0"
      },
      "execution_count": null,
      "outputs": [
        {
          "output_type": "stream",
          "name": "stdout",
          "text": [
            "Collecting numpyro\n",
            "  Downloading numpyro-0.18.0-py3-none-any.whl.metadata (37 kB)\n",
            "Requirement already satisfied: jaxlib in /usr/local/lib/python3.11/dist-packages (0.5.1)\n",
            "Requirement already satisfied: jax>=0.4.25 in /usr/local/lib/python3.11/dist-packages (from numpyro) (0.5.2)\n",
            "Requirement already satisfied: multipledispatch in /usr/local/lib/python3.11/dist-packages (from numpyro) (1.0.0)\n",
            "Requirement already satisfied: numpy in /usr/local/lib/python3.11/dist-packages (from numpyro) (2.0.2)\n",
            "Requirement already satisfied: tqdm in /usr/local/lib/python3.11/dist-packages (from numpyro) (4.67.1)\n",
            "Requirement already satisfied: scipy>=1.11.1 in /usr/local/lib/python3.11/dist-packages (from jaxlib) (1.14.1)\n",
            "Requirement already satisfied: ml-dtypes>=0.2.0 in /usr/local/lib/python3.11/dist-packages (from jaxlib) (0.4.1)\n",
            "Requirement already satisfied: opt_einsum in /usr/local/lib/python3.11/dist-packages (from jax>=0.4.25->numpyro) (3.4.0)\n",
            "Downloading numpyro-0.18.0-py3-none-any.whl (365 kB)\n",
            "\u001b[?25l   \u001b[90m━━━━━━━━━━━━━━━━━━━━━━━━━━━━━━━━━━━━━━━━\u001b[0m \u001b[32m0.0/365.8 kB\u001b[0m \u001b[31m?\u001b[0m eta \u001b[36m-:--:--\u001b[0m\r\u001b[2K   \u001b[90m━━━━━━━━━━━━━━━━━━━━━━━━━━━━━━━━━━━━━━━━\u001b[0m \u001b[32m365.8/365.8 kB\u001b[0m \u001b[31m29.0 MB/s\u001b[0m eta \u001b[36m0:00:00\u001b[0m\n",
            "\u001b[?25hInstalling collected packages: numpyro\n",
            "Successfully installed numpyro-0.18.0\n"
          ]
        }
      ]
    },
    {
      "cell_type": "code",
      "source": [
        "import os\n",
        "import cv2\n",
        "import numpy as np\n",
        "import pandas as pd\n",
        "import tensorflow as tf\n",
        "from sklearn.model_selection import train_test_split\n",
        "from tensorflow.keras.utils import to_categorical"
      ],
      "metadata": {
        "id": "N3tqExhcMOVu"
      },
      "execution_count": null,
      "outputs": []
    },
    {
      "cell_type": "markdown",
      "source": [
        "# Load and Parse Data"
      ],
      "metadata": {
        "id": "3R6Tzb1gN-k4"
      }
    },
    {
      "cell_type": "code",
      "source": [
        "def parse_filename(filename):\n",
        "  # Extract the head pose and gaze angles from the file name\n",
        "  parts = filename.split('_')\n",
        "  head_pose = int(parts[2].replace('P',''))\n",
        "  gaze_vertical = int(parts[3].replace('V',''))\n",
        "  gaze_horizontal = int(parts[4].replace('H','').replace('.jpg',''))\n",
        "  return head_pose,gaze_vertical, gaze_horizontal\n",
        "\n",
        "def strip_extension(filename):\n",
        "  return\n",
        "\n",
        "def get_eye_corners(img_name, eye_corners_df):\n",
        "  # Extract eye corners from the excel sheet\n",
        "  # Check if img_name exists in the DataFrame before accessing it\n",
        "  if img_name in eye_corners_df['IMAGE'].values:\n",
        "    row = eye_corners_df[eye_corners_df['IMAGE'] == img_name].iloc[0]\n",
        "    return {\n",
        "          \"right_eye\": [(row[\"RIGHT_EYE_IN_X\"], row[\"RIGHT_EYE_IN_Y\"]),\n",
        "                       (row[\"RIGHT_EYE_OUT_X\"], row[\"RIGHT_EYE_OUT_Y\"])],\n",
        "          \"left_eye\": [(row[\"LEFT_EYE_IN_X\"], row[\"LEFT_EYE_IN_Y\"]),\n",
        "                      (row[\"LEFT_EYE_OUT_X\"], row[\"LEFT_EYE_OUT_Y\"])]\n",
        "      }\n",
        "  else:\n",
        "    # Handle cases where img_name is not found\n",
        "    print(f\"Warning: Image {img_name} not found in eye_corners_df\")\n",
        "    return {\"right_eye\": [], \"left_eye\": []}  # Or some default value\n",
        "\n",
        "# Load data\n",
        "data_dir = \"/content/drive/MyDrive/CogRobs/Gaze_Dataset\"\n",
        "eye_corners_df = pd.read_csv(\"/content/drive/MyDrive/CogRobs/eye_corner_locations.csv\")\n",
        "\n",
        "images = []\n",
        "head_poses = []\n",
        "gaze_hs = []\n",
        "\n",
        "for img_file in os.listdir(data_dir):\n",
        "  if img_file.endswith(\".jpg\"):\n",
        "    img_path = os.path.join(data_dir, img_file)\n",
        "    head_pose, _, gaze_h = parse_filename(img_file)\n",
        "    filename = os.path.splitext(img_file)[0]\n",
        "    eye_corners = get_eye_corners(filename, eye_corners_df)\n",
        "    # store data\n",
        "    images.append(img_path)\n",
        "    head_poses.append(head_pose)\n",
        "    gaze_hs.append(gaze_h)\n",
        "\n"
      ],
      "metadata": {
        "id": "hvWLXBG4NfOK",
        "colab": {
          "base_uri": "https://localhost:8080/"
        },
        "collapsed": true,
        "outputId": "a3777bb4-e7d6-40e4-81c4-22d64a3369ff"
      },
      "execution_count": null,
      "outputs": [
        {
          "output_type": "stream",
          "name": "stdout",
          "text": [
            "Warning: Image 0037_2m_0P_-10V_-5H not found in eye_corners_df\n",
            "Warning: Image 0037_2m_0P_-10V_-10H not found in eye_corners_df\n",
            "Warning: Image 0037_2m_0P_-10V_0H not found in eye_corners_df\n",
            "Warning: Image 0037_2m_0P_-10V_-15H not found in eye_corners_df\n",
            "Warning: Image 0037_2m_0P_-10V_10H not found in eye_corners_df\n",
            "Warning: Image 0037_2m_0P_-10V_15H not found in eye_corners_df\n",
            "Warning: Image 0037_2m_0P_-10V_5H not found in eye_corners_df\n",
            "Warning: Image 0018_2m_15P_-10V_15H not found in eye_corners_df\n",
            "Warning: Image 0018_2m_15P_-10V_-5H not found in eye_corners_df\n",
            "Warning: Image 0018_2m_15P_-10V_10H not found in eye_corners_df\n",
            "Warning: Image 0018_2m_15P_-10V_5H not found in eye_corners_df\n",
            "Warning: Image 0018_2m_15P_-10V_0H not found in eye_corners_df\n",
            "Warning: Image 0018_2m_15P_-10V_-15H not found in eye_corners_df\n",
            "Warning: Image 0018_2m_15P_-10V_-10H not found in eye_corners_df\n",
            "Warning: Image 0006_2m_-15P_0V_0H not found in eye_corners_df\n"
          ]
        }
      ]
    },
    {
      "cell_type": "code",
      "source": [
        "print(eye_corners_df.columns)\n",
        "print(eye_corners_df.head())\n"
      ],
      "metadata": {
        "colab": {
          "base_uri": "https://localhost:8080/"
        },
        "id": "5xoJX0ln6zcZ",
        "outputId": "122f2d63-6cde-4111-e14c-11f0547a701a"
      },
      "execution_count": null,
      "outputs": [
        {
          "output_type": "stream",
          "name": "stdout",
          "text": [
            "Index(['IMAGE', 'RIGHT_EYE_IN_X', 'RIGHT_EYE_IN_Y', 'RIGHT_EYE_OUT_X',\n",
            "       'RIGHT_EYE_OUT_Y', 'LEFT_EYE_IN_X', 'LEFT_EYE_IN_Y', 'LEFT_EYE_OUT_X',\n",
            "       'LEFT_EYE_OUT_Y'],\n",
            "      dtype='object')\n",
            "                    IMAGE  RIGHT_EYE_IN_X  RIGHT_EYE_IN_Y  RIGHT_EYE_OUT_X  \\\n",
            "0  0001_2m_-15P_-10V_-10H            2386            1627             2171   \n",
            "1  0001_2m_-15P_-10V_-15H            2377            1620             2171   \n",
            "2   0001_2m_-15P_-10V_-5H            2376            1614             2166   \n",
            "3    0001_2m_-15P_-10V_0H            2387            1620             2184   \n",
            "4   0001_2m_-15P_-10V_10H            2392            1613             2190   \n",
            "\n",
            "   RIGHT_EYE_OUT_Y  LEFT_EYE_IN_X  LEFT_EYE_IN_Y  LEFT_EYE_OUT_X  \\\n",
            "0             1613           2754           1623            3009   \n",
            "1             1606           2750           1611            3003   \n",
            "2             1599           2752           1609            3012   \n",
            "3             1601           2765           1616            3028   \n",
            "4             1593           2773           1615            3036   \n",
            "\n",
            "   LEFT_EYE_OUT_Y  \n",
            "0            1583  \n",
            "1            1574  \n",
            "2            1577  \n",
            "3            1587  \n",
            "4            1581  \n"
          ]
        }
      ]
    },
    {
      "cell_type": "code",
      "source": [
        "print(len(images))\n",
        "print(len(head_poses))\n",
        "print(len(gaze_hs))"
      ],
      "metadata": {
        "colab": {
          "base_uri": "https://localhost:8080/"
        },
        "id": "Rnh5YBEH0fRo",
        "outputId": "4796626b-39df-4100-a4a0-171b9523aff7"
      },
      "execution_count": null,
      "outputs": [
        {
          "output_type": "stream",
          "name": "stdout",
          "text": [
            "5880\n",
            "5880\n",
            "5880\n"
          ]
        }
      ]
    },
    {
      "cell_type": "markdown",
      "source": [
        "# Camera Configuration"
      ],
      "metadata": {
        "id": "48Su8K-JSBVe"
      }
    },
    {
      "cell_type": "code",
      "source": [
        "# Camera parameters\n",
        "focal_length_mm = 85\n",
        "sensor_width_mm = 22.3\n",
        "original_width_px = 5184\n",
        "\n",
        "# Focal length in pixels\n",
        "focal_px = (focal_length_mm/sensor_width_mm)* original_width_px\n",
        "camera_center_original = (original_width_px/2, original_width_px * (3456/5184)/2)"
      ],
      "metadata": {
        "id": "bq80HkRGR8mE"
      },
      "execution_count": null,
      "outputs": []
    },
    {
      "cell_type": "markdown",
      "source": [
        "# Preprocess Images"
      ],
      "metadata": {
        "id": "IrUxzqSGS9sS"
      }
    },
    {
      "cell_type": "code",
      "source": [
        "def preprocess_image(img_path, eye_corners, target_size=(224,224)):\n",
        "  # Resize image and scale eye corners\n",
        "  image = cv2.imread(img_path)\n",
        "  original_h, original_w = image.shape[:2]\n",
        "  image_resized = cv2.resize(image, target_size)\n",
        "\n",
        "  # Scale eye corners to resized image\n",
        "  scale_x = target_size[0]/original_w\n",
        "  scale_y = target_size[1]/original_h\n",
        "  eye_corners_scaled = {\n",
        "       \"right_eye\": [(int(x * scale_x), int(y * scale_y)) for x, y in eye_corners[\"right_eye\"]],\n",
        "        \"left_eye\": [(int(x * scale_x), int(y * scale_y)) for x, y in eye_corners[\"left_eye\"]]\n",
        "  }\n",
        "\n",
        "  # Scale camera parameters\n",
        "  focal_px_scaled = focal_px * scale_x\n",
        "  camera_center_scaled = (camera_center_original[0] * scale_x, camera_center_original[1] * scale_y)\n",
        "  return image_resized, eye_corners_scaled, focal_px_scaled, camera_center_scaled"
      ],
      "metadata": {
        "id": "9RMDYOO5SJYK"
      },
      "execution_count": null,
      "outputs": []
    },
    {
      "cell_type": "code",
      "source": [],
      "metadata": {
        "id": "abXLKba58XpK"
      },
      "execution_count": null,
      "outputs": []
    },
    {
      "cell_type": "markdown",
      "source": [
        "# Head Pose Estimation"
      ],
      "metadata": {
        "id": "e33bp9YOUGXd"
      }
    },
    {
      "cell_type": "code",
      "source": [
        "def estimate_head_pose(eye_corners, focal_px, camera_center):\n",
        "  # Estimate haed yaw using solvePnP\n",
        "  # 3d model\n",
        "  model_3d = np.array([[-15.0,0,0],\n",
        "                       [-5.0,0,0],\n",
        "                       [5.0,0,0],\n",
        "                       [15.0,0,0]],dtype=np.float32)\n",
        "\n",
        "  # 2d points\n",
        "  points_2d = np.array([\n",
        "       eye_corners[\"left_eye\"][1],  # Left outer\n",
        "        eye_corners[\"left_eye\"][0],  # Left inner\n",
        "        eye_corners[\"right_eye\"][0], # Right inner\n",
        "        eye_corners[\"right_eye\"][1]  # Right outer\n",
        "  ], dtype=np.float32)\n",
        "\n",
        "  # Camera matrix\n",
        "  camera_matrix = np.array([\n",
        "        [focal_px, 0, camera_center[0]],\n",
        "        [0, focal_px, camera_center[1]],\n",
        "        [0, 0, 1]\n",
        "    ], dtype=np.float32)\n",
        "\n",
        "  # Solve PnP\n",
        "  _, rvec, _ = cv2.solvePnP(model_3d, points_2d, camera_matrix, None)\n",
        "  rmat, _ = cv2.Rodrigues(rvec)\n",
        "  yaw = np.degrees(np.arctan2(rmat[1,0], rmat[0,0]))\n",
        "  return yaw"
      ],
      "metadata": {
        "id": "gQc39Y7tUE1a"
      },
      "execution_count": null,
      "outputs": []
    },
    {
      "cell_type": "markdown",
      "source": [
        "# Train Classifier"
      ],
      "metadata": {
        "id": "THcF_N9ZkmdO"
      }
    },
    {
      "cell_type": "code",
      "source": [
        "def classify_head(yaw):\n",
        "  return \"left\" if yaw < -15 else \"right\" if yaw > 15 else \"center\"\n",
        "\n",
        "def classify_gaze(gaze_h):\n",
        "  return \"left\" if gaze_h < -5 else \"right\" if gaze_h > 5 else \"center\"\n",
        "\n",
        "# Preprocess all images\n",
        "X = []\n",
        "y_head = []\n",
        "y_gaze = []\n",
        "\n",
        "for img_path, head_pose, gaze_h, eye_corners in zip(images, head_poses, gaze_hs, [get_eye_corners(os.path.splitext(f)[0], eye_corners_df) for f in os.listdir(data_dir) if f.endswith(\".jpg\")]):\n",
        "  img_resized, _, _, _ = preprocess_image(img_path, eye_corners)\n",
        "  X.append(img_resized)\n",
        "  y_head.append(classify_head(head_pose))  # Use ground truth from filename\n",
        "  y_gaze.append(classify_gaze(gaze_h))\n",
        "\n",
        "# Convert labels to indices\n",
        "label_map = {\"left\": 0, \"center\": 1, \"right\":2}\n",
        "y_head_idx = np.array([label_map[h] for h in y_head])\n",
        "y_gaze_idx = np.array([label_map[g] for g in y_gaze])\n",
        "\n",
        "X_train, X_test, y_head_train, y_head_test, y_gaze_train, y_gaze_test = train_test_split(np.array(X), y_head_idx, y_gaze_idx, test_size=0.2)\n",
        "\n",
        "\n",
        "# CNN Model\n",
        "def CNN_model(input_shape, num_classes):\n",
        "  base_model = tf.keras.applications.MobileNetV2(\n",
        "      input_shape=input_shape,\n",
        "      include_top=False,\n",
        "      weights=\"imagenet\"\n",
        "  )\n",
        "\n",
        "  model = tf.keras.Sequential([\n",
        "      base_model,\n",
        "      tf.keras.layers.GlobalAveragePooling2D(),\n",
        "      tf.keras.layers.Dense(num_classes, activation=\"softmax\")\n",
        "  ])\n",
        "\n",
        "  model.compile(optimizer=\"adam\", loss=\"sparse_categorical_crossentropy\", metrics=[\"accuracy\"])\n",
        "  return model\n",
        "\n",
        "  # Train head direction classifier\n",
        "head_model = CNN_model(input_shape=(224,224,3), num_classes=3)\n",
        "head_model.fit(X_train, y_head_train, epochs=10, validation_data=(X_test, y_head_test))\n",
        "\n",
        "  # Train gaze direction classifier\n",
        "gaze_model = CNN_model(input_shape=(224,224,3), num_classes=3)\n",
        "gaze_model.fit(X_train, y_gaze_train, epochs=10, validation_data=(X_test, y_gaze_test))\n"
      ],
      "metadata": {
        "id": "n2WZzlr8kloy",
        "colab": {
          "base_uri": "https://localhost:8080/"
        },
        "collapsed": true,
        "outputId": "3c2e77ba-c7ea-439f-c0ab-99725fcbc020"
      },
      "execution_count": null,
      "outputs": [
        {
          "output_type": "stream",
          "name": "stdout",
          "text": [
            "Warning: Image 0037_2m_0P_-10V_-5H not found in eye_corners_df\n",
            "Warning: Image 0037_2m_0P_-10V_-10H not found in eye_corners_df\n",
            "Warning: Image 0037_2m_0P_-10V_0H not found in eye_corners_df\n",
            "Warning: Image 0037_2m_0P_-10V_-15H not found in eye_corners_df\n",
            "Warning: Image 0037_2m_0P_-10V_10H not found in eye_corners_df\n",
            "Warning: Image 0037_2m_0P_-10V_15H not found in eye_corners_df\n",
            "Warning: Image 0037_2m_0P_-10V_5H not found in eye_corners_df\n",
            "Warning: Image 0018_2m_15P_-10V_15H not found in eye_corners_df\n",
            "Warning: Image 0018_2m_15P_-10V_-5H not found in eye_corners_df\n",
            "Warning: Image 0018_2m_15P_-10V_10H not found in eye_corners_df\n",
            "Warning: Image 0018_2m_15P_-10V_5H not found in eye_corners_df\n",
            "Warning: Image 0018_2m_15P_-10V_0H not found in eye_corners_df\n",
            "Warning: Image 0018_2m_15P_-10V_-15H not found in eye_corners_df\n",
            "Warning: Image 0018_2m_15P_-10V_-10H not found in eye_corners_df\n",
            "Warning: Image 0006_2m_-15P_0V_0H not found in eye_corners_df\n",
            "Downloading data from https://storage.googleapis.com/tensorflow/keras-applications/mobilenet_v2/mobilenet_v2_weights_tf_dim_ordering_tf_kernels_1.0_224_no_top.h5\n",
            "\u001b[1m9406464/9406464\u001b[0m \u001b[32m━━━━━━━━━━━━━━━━━━━━\u001b[0m\u001b[37m\u001b[0m \u001b[1m2s\u001b[0m 0us/step\n",
            "Epoch 1/10\n",
            "\u001b[1m147/147\u001b[0m \u001b[32m━━━━━━━━━━━━━━━━━━━━\u001b[0m\u001b[37m\u001b[0m \u001b[1m70s\u001b[0m 105ms/step - accuracy: 0.9328 - loss: 0.1863 - val_accuracy: 0.6650 - val_loss: 9.9682\n",
            "Epoch 2/10\n",
            "\u001b[1m147/147\u001b[0m \u001b[32m━━━━━━━━━━━━━━━━━━━━\u001b[0m\u001b[37m\u001b[0m \u001b[1m4s\u001b[0m 27ms/step - accuracy: 1.0000 - loss: 5.9648e-04 - val_accuracy: 0.7764 - val_loss: 5.5702\n",
            "Epoch 3/10\n",
            "\u001b[1m147/147\u001b[0m \u001b[32m━━━━━━━━━━━━━━━━━━━━\u001b[0m\u001b[37m\u001b[0m \u001b[1m4s\u001b[0m 26ms/step - accuracy: 1.0000 - loss: 4.8848e-05 - val_accuracy: 0.8435 - val_loss: 2.1255\n",
            "Epoch 4/10\n",
            "\u001b[1m147/147\u001b[0m \u001b[32m━━━━━━━━━━━━━━━━━━━━\u001b[0m\u001b[37m\u001b[0m \u001b[1m4s\u001b[0m 26ms/step - accuracy: 1.0000 - loss: 4.5848e-05 - val_accuracy: 0.9303 - val_loss: 0.4597\n",
            "Epoch 5/10\n",
            "\u001b[1m147/147\u001b[0m \u001b[32m━━━━━━━━━━━━━━━━━━━━\u001b[0m\u001b[37m\u001b[0m \u001b[1m4s\u001b[0m 27ms/step - accuracy: 1.0000 - loss: 5.3290e-05 - val_accuracy: 0.9796 - val_loss: 0.0604\n",
            "Epoch 6/10\n",
            "\u001b[1m147/147\u001b[0m \u001b[32m━━━━━━━━━━━━━━━━━━━━\u001b[0m\u001b[37m\u001b[0m \u001b[1m4s\u001b[0m 27ms/step - accuracy: 1.0000 - loss: 8.4388e-06 - val_accuracy: 0.9983 - val_loss: 0.0064\n",
            "Epoch 7/10\n",
            "\u001b[1m147/147\u001b[0m \u001b[32m━━━━━━━━━━━━━━━━━━━━\u001b[0m\u001b[37m\u001b[0m \u001b[1m4s\u001b[0m 26ms/step - accuracy: 1.0000 - loss: 7.5729e-06 - val_accuracy: 1.0000 - val_loss: 5.5368e-04\n",
            "Epoch 8/10\n",
            "\u001b[1m147/147\u001b[0m \u001b[32m━━━━━━━━━━━━━━━━━━━━\u001b[0m\u001b[37m\u001b[0m \u001b[1m4s\u001b[0m 26ms/step - accuracy: 1.0000 - loss: 1.9707e-05 - val_accuracy: 1.0000 - val_loss: 1.8510e-05\n",
            "Epoch 9/10\n",
            "\u001b[1m147/147\u001b[0m \u001b[32m━━━━━━━━━━━━━━━━━━━━\u001b[0m\u001b[37m\u001b[0m \u001b[1m4s\u001b[0m 27ms/step - accuracy: 1.0000 - loss: 9.5736e-06 - val_accuracy: 1.0000 - val_loss: 8.0135e-07\n",
            "Epoch 10/10\n",
            "\u001b[1m147/147\u001b[0m \u001b[32m━━━━━━━━━━━━━━━━━━━━\u001b[0m\u001b[37m\u001b[0m \u001b[1m4s\u001b[0m 26ms/step - accuracy: 1.0000 - loss: 5.3330e-06 - val_accuracy: 1.0000 - val_loss: 2.3071e-07\n",
            "Epoch 1/10\n",
            "\u001b[1m147/147\u001b[0m \u001b[32m━━━━━━━━━━━━━━━━━━━━\u001b[0m\u001b[37m\u001b[0m \u001b[1m47s\u001b[0m 59ms/step - accuracy: 0.3711 - loss: 1.2573 - val_accuracy: 0.3095 - val_loss: 4.9805\n",
            "Epoch 2/10\n",
            "\u001b[1m147/147\u001b[0m \u001b[32m━━━━━━━━━━━━━━━━━━━━\u001b[0m\u001b[37m\u001b[0m \u001b[1m4s\u001b[0m 28ms/step - accuracy: 0.4178 - loss: 1.0947 - val_accuracy: 0.2968 - val_loss: 2.1711\n",
            "Epoch 3/10\n",
            "\u001b[1m147/147\u001b[0m \u001b[32m━━━━━━━━━━━━━━━━━━━━\u001b[0m\u001b[37m\u001b[0m \u001b[1m4s\u001b[0m 27ms/step - accuracy: 0.4286 - loss: 1.0879 - val_accuracy: 0.2959 - val_loss: 1.4472\n",
            "Epoch 4/10\n",
            "\u001b[1m147/147\u001b[0m \u001b[32m━━━━━━━━━━━━━━━━━━━━\u001b[0m\u001b[37m\u001b[0m \u001b[1m4s\u001b[0m 27ms/step - accuracy: 0.4223 - loss: 1.1023 - val_accuracy: 0.4073 - val_loss: 2.4148\n",
            "Epoch 5/10\n",
            "\u001b[1m147/147\u001b[0m \u001b[32m━━━━━━━━━━━━━━━━━━━━\u001b[0m\u001b[37m\u001b[0m \u001b[1m4s\u001b[0m 27ms/step - accuracy: 0.4053 - loss: 1.1037 - val_accuracy: 0.4133 - val_loss: 1.3183\n",
            "Epoch 6/10\n",
            "\u001b[1m147/147\u001b[0m \u001b[32m━━━━━━━━━━━━━━━━━━━━\u001b[0m\u001b[37m\u001b[0m \u001b[1m4s\u001b[0m 27ms/step - accuracy: 0.4171 - loss: 1.0905 - val_accuracy: 0.4133 - val_loss: 1.2405\n",
            "Epoch 7/10\n",
            "\u001b[1m147/147\u001b[0m \u001b[32m━━━━━━━━━━━━━━━━━━━━\u001b[0m\u001b[37m\u001b[0m \u001b[1m4s\u001b[0m 27ms/step - accuracy: 0.4217 - loss: 1.0844 - val_accuracy: 0.4133 - val_loss: 1.1230\n",
            "Epoch 8/10\n",
            "\u001b[1m147/147\u001b[0m \u001b[32m━━━━━━━━━━━━━━━━━━━━\u001b[0m\u001b[37m\u001b[0m \u001b[1m4s\u001b[0m 27ms/step - accuracy: 0.4213 - loss: 1.0868 - val_accuracy: 0.4133 - val_loss: 1.1006\n",
            "Epoch 9/10\n",
            "\u001b[1m147/147\u001b[0m \u001b[32m━━━━━━━━━━━━━━━━━━━━\u001b[0m\u001b[37m\u001b[0m \u001b[1m4s\u001b[0m 27ms/step - accuracy: 0.4205 - loss: 1.0870 - val_accuracy: 0.4133 - val_loss: 1.0864\n",
            "Epoch 10/10\n",
            "\u001b[1m147/147\u001b[0m \u001b[32m━━━━━━━━━━━━━━━━━━━━\u001b[0m\u001b[37m\u001b[0m \u001b[1m4s\u001b[0m 27ms/step - accuracy: 0.4335 - loss: 1.0814 - val_accuracy: 0.2917 - val_loss: 1.1803\n"
          ]
        },
        {
          "output_type": "execute_result",
          "data": {
            "text/plain": [
              "<keras.src.callbacks.history.History at 0x7f3fabe4c6d0>"
            ]
          },
          "metadata": {},
          "execution_count": 14
        }
      ]
    },
    {
      "cell_type": "markdown",
      "source": [
        "# Visualisation"
      ],
      "metadata": {
        "id": "Je42Qk4rsgX0"
      }
    },
    {
      "cell_type": "code",
      "source": [
        "from sklearn.metrics import classification_report, confusion_matrix\n",
        "\n",
        "head_eval = head_model.evaluate(X_test, y_head_test, verbose=0)\n",
        "print(f\"Head Model - Test Loss: {head_eval[0]:.4f}, Test Accuracy: {head_eval[1]:.4f}\")\n",
        "\n",
        "head_preds = np.argmax(head_model.predict(X_test), axis=1)\n",
        "print(\"\\nHead Model CLassification Report:\")\n",
        "print(classification_report(y_head_test, head_preds, target_names=[\"left\", \"center\",\"right\"]))\n",
        "\n",
        "# display confusion matrix for head model\n",
        "print(\"\\nHead Model Confusion Matrix:\")\n",
        "print(confusion_matrix(y_head_test, head_preds))\n",
        "\n",
        "# display gaze model\n",
        "gaze_eval = gaze_model.evaluate(X_test, y_gaze_test, verbose=0)\n",
        "print(f\"Gaze Model - Test Loss: {gaze_eval[0]:.4f}, Test Accuracy: {gaze_eval[1]:.4f}\")\n",
        "\n",
        "gaze_preds = np.argmax(gaze_model.predict(X_test), axis=1)\n",
        "print(\"\\nGaze Model CLassification Report:\")\n",
        "print(classification_report(y_gaze_test, gaze_preds, target_names=[\"left\", \"center\",\"right\"]))\n",
        "\n",
        "print(\"\\nGaze Model Confusion Matrix:\")\n",
        "print(confusion_matrix(y_gaze_test, gaze_preds))"
      ],
      "metadata": {
        "colab": {
          "base_uri": "https://localhost:8080/"
        },
        "id": "b4q1bU15mb2p",
        "outputId": "10b3093d-0a31-458e-8e44-ead4ab4cfeac"
      },
      "execution_count": null,
      "outputs": [
        {
          "output_type": "stream",
          "name": "stdout",
          "text": [
            "Head Model - Test Loss: 0.0000, Test Accuracy: 1.0000\n",
            "\u001b[1m37/37\u001b[0m \u001b[32m━━━━━━━━━━━━━━━━━━━━\u001b[0m\u001b[37m\u001b[0m \u001b[1m0s\u001b[0m 8ms/step\n",
            "\n",
            "Head Model CLassification Report:\n",
            "              precision    recall  f1-score   support\n",
            "\n",
            "        left       1.00      1.00      1.00       225\n",
            "      center       1.00      1.00      1.00       693\n",
            "       right       1.00      1.00      1.00       258\n",
            "\n",
            "    accuracy                           1.00      1176\n",
            "   macro avg       1.00      1.00      1.00      1176\n",
            "weighted avg       1.00      1.00      1.00      1176\n",
            "\n",
            "\n",
            "Head Model Confusion Matrix:\n",
            "[[225   0   0]\n",
            " [  0 693   0]\n",
            " [  0   0 258]]\n",
            "Gaze Model - Test Loss: 1.1803, Test Accuracy: 0.2917\n",
            "\u001b[1m37/37\u001b[0m \u001b[32m━━━━━━━━━━━━━━━━━━━━\u001b[0m\u001b[37m\u001b[0m \u001b[1m6s\u001b[0m 84ms/step\n",
            "\n",
            "Gaze Model CLassification Report:\n",
            "              precision    recall  f1-score   support\n",
            "\n",
            "        left       0.29      1.00      0.45       342\n",
            "      center       0.50      0.00      0.01       486\n",
            "       right       0.00      0.00      0.00       348\n",
            "\n",
            "    accuracy                           0.29      1176\n",
            "   macro avg       0.26      0.33      0.15      1176\n",
            "weighted avg       0.29      0.29      0.13      1176\n",
            "\n",
            "\n",
            "Gaze Model Confusion Matrix:\n",
            "[[341   1   0]\n",
            " [484   2   0]\n",
            " [347   1   0]]\n"
          ]
        },
        {
          "output_type": "stream",
          "name": "stderr",
          "text": [
            "/usr/local/lib/python3.11/dist-packages/sklearn/metrics/_classification.py:1565: UndefinedMetricWarning: Precision is ill-defined and being set to 0.0 in labels with no predicted samples. Use `zero_division` parameter to control this behavior.\n",
            "  _warn_prf(average, modifier, f\"{metric.capitalize()} is\", len(result))\n",
            "/usr/local/lib/python3.11/dist-packages/sklearn/metrics/_classification.py:1565: UndefinedMetricWarning: Precision is ill-defined and being set to 0.0 in labels with no predicted samples. Use `zero_division` parameter to control this behavior.\n",
            "  _warn_prf(average, modifier, f\"{metric.capitalize()} is\", len(result))\n",
            "/usr/local/lib/python3.11/dist-packages/sklearn/metrics/_classification.py:1565: UndefinedMetricWarning: Precision is ill-defined and being set to 0.0 in labels with no predicted samples. Use `zero_division` parameter to control this behavior.\n",
            "  _warn_prf(average, modifier, f\"{metric.capitalize()} is\", len(result))\n"
          ]
        }
      ]
    },
    {
      "cell_type": "markdown",
      "source": [
        "# Plots"
      ],
      "metadata": {
        "id": "o6AZn7ZpWew-"
      }
    },
    {
      "cell_type": "code",
      "source": [
        "import matplotlib.pyplot as plt\n",
        "import numpy as np\n",
        "\n",
        "# Convert lists to NumPy arrays for easier indexing\n",
        "head_poses_arr = np.array(head_poses)\n",
        "gaze_hs_arr = np.array(gaze_hs)\n",
        "y_head_arr = np.array(y_head)\n",
        "\n",
        "# Create scatter plot for all data points\n",
        "plt.figure(figsize=(8, 6))\n",
        "plt.scatter(head_poses_arr, gaze_hs_arr, alpha=0.6, label='All Data', color='gray')\n",
        "\n",
        "# Filter indices where head is classified as \"center\"\n",
        "center_indices = np.where(y_head_arr == \"center\")[0]\n",
        "\n",
        "# Highlight data points with center head position in red\n",
        "plt.scatter(head_poses_arr[center_indices], gaze_hs_arr[center_indices],\n",
        "            alpha=0.8, label='Center Head', color='red')\n",
        "\n",
        "plt.xlabel(\"Head Pose (yaw in degrees)\")\n",
        "plt.ylabel(\"Gaze Horizontal (deg)\")\n",
        "plt.title(\"Scatter Plot: Head Pose vs. Gaze Horizontal\")\n",
        "plt.legend()\n",
        "plt.grid(True)\n",
        "plt.show()\n"
      ],
      "metadata": {
        "colab": {
          "base_uri": "https://localhost:8080/",
          "height": 522
        },
        "id": "dNZm_dNQWcjH",
        "outputId": "debead31-4270-434e-ab3a-e8dac3d32423"
      },
      "execution_count": null,
      "outputs": [
        {
          "output_type": "display_data",
          "data": {
            "text/plain": [
              "<Figure size 800x600 with 1 Axes>"
            ],
            "image/png": "[encoded data removed]"
          },
          "metadata": {}
        }
      ]
    },
    {
      "cell_type": "code",
      "source": [
        "# Assuming y_gaze is a list of categorical gaze labels (\"left\", \"center\", \"right\")\n",
        "y_gaze_arr = np.array(y_gaze)\n",
        "\n",
        "# Filter gaze horizontal values for center head position\n",
        "gaze_center = gaze_hs_arr[center_indices]\n",
        "gaze_labels_center = y_gaze_arr[center_indices]\n",
        "\n",
        "# Further separate into \"left\" and \"right\" gaze responses (ignoring those labeled \"center\")\n",
        "gaze_left = gaze_center[gaze_labels_center == \"left\"]\n",
        "gaze_right = gaze_center[gaze_labels_center == \"right\"]\n",
        "\n",
        "plt.figure(figsize=(8, 6))\n",
        "plt.hist(gaze_left, bins=20, alpha=0.6, label=\"Gaze Left\", color='blue')\n",
        "plt.hist(gaze_right, bins=20, alpha=0.6, label=\"Gaze Right\", color='green')\n",
        "\n",
        "plt.xlabel(\"Gaze Horizontal (deg)\")\n",
        "plt.ylabel(\"Frequency\")\n",
        "plt.title(\"Histogram of Gaze Horizontal for Center Head Position\")\n",
        "plt.legend()\n",
        "plt.show()\n"
      ],
      "metadata": {
        "colab": {
          "base_uri": "https://localhost:8080/",
          "height": 524
        },
        "id": "C50xJB7hWjBA",
        "outputId": "23eee930-1b82-4d33-ef72-326322c5743c"
      },
      "execution_count": null,
      "outputs": [
        {
          "output_type": "display_data",
          "data": {
            "text/plain": [
              "<Figure size 800x600 with 1 Axes>"
            ],
            "image/png": "[encoded data removed]"
          },
          "metadata": {}
        }
      ]
    },
    {
      "cell_type": "markdown",
      "source": [
        "# Bayesian Analysis"
      ],
      "metadata": {
        "id": "VssazXSkJle5"
      }
    },
    {
      "cell_type": "code",
      "source": [
        "import numpyro\n",
        "import jax\n",
        "import numpyro.distributions as dist\n",
        "from numpyro.infer import MCMC, NUTS\n",
        "import jax.numpy as jnp\n",
        "import matplotlib.pyplot as plt\n",
        "\n",
        "# Convert data to JAX arrays\n",
        "head_poses_jax = jnp.array(head_poses)\n",
        "gaze_hs_jax = jnp.array(gaze_hs)\n",
        "\n",
        "def gaze_model(head_poses, gaze_hs=None):\n",
        "    # Priors\n",
        "    alpha = numpyro.sample(\"alpha\", dist.Normal(0, 10))\n",
        "    beta = numpyro.sample(\"beta\", dist.Normal(0, 10))\n",
        "    sigma = numpyro.sample(\"sigma\", dist.HalfNormal(10))\n",
        "\n",
        "    # Likelihood\n",
        "    mu = alpha + beta * head_poses\n",
        "    numpyro.sample(\"gaze\", dist.Normal(mu, sigma), obs=gaze_hs)\n",
        "\n",
        "# Run MCMC\n",
        "nuts_kernel = NUTS(gaze_model)\n",
        "mcmc = MCMC(nuts_kernel, num_samples=1000, num_warmup=1000)\n",
        "mcmc.run(jax.random.PRNGKey(0), head_poses_jax, gaze_hs_jax)\n",
        "\n",
        "# Get samples and plot\n",
        "samples = mcmc.get_samples()\n",
        "plt.figure(figsize=(8, 4))\n",
        "plt.hist(samples[\"beta\"], bins=30, density=True, alpha=0.7)\n",
        "plt.title(\"Posterior Distribution of Beta (Head Pose Effect)\")\n",
        "plt.xlabel(\"Beta Value\")\n",
        "plt.ylabel(\"Density\")\n",
        "plt.show()\n",
        "\n",
        "# Print summary\n",
        "print(\"\\nBayesian Inference Results:\")\n",
        "print(f\"Alpha mean: {jnp.mean(samples['alpha']):.2f} ± {jnp.std(samples['alpha']):.2f}\")\n",
        "print(f\"Beta mean: {jnp.mean(samples['beta']):.2f} ± {jnp.std(samples['beta']):.2f}\")\n",
        "print(f\"Sigma mean: {jnp.mean(samples['sigma']):.2f} ± {jnp.std(samples['sigma']):.2f}\")"
      ],
      "metadata": {
        "id": "EUqH8XCJR2Ft"
      },
      "execution_count": null,
      "outputs": []
    }
  ]
}